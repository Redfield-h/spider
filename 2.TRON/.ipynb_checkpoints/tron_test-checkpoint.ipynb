{
 "cells": [
  {
   "cell_type": "code",
   "execution_count": 1,
   "id": "c1e563d2-2d72-4d46-b36b-edfa4fceb857",
   "metadata": {},
   "outputs": [],
   "source": [
    "import requests\n",
    "import json\n",
    "import time\n",
    "import pandas as pd\n",
    "key = \"ckey_2545e4a689bb4d4c87d64889755\"\n",
    "account = \"TKGzxB7sLhgKfK9Jfa27Z4R34kj9ZrVeb6\"\n",
    "url = f\"https://api.trongrid.io/v1/accounts/{account}/transactions/trc20\"\n",
    "\n",
    "headers = {\"Accept\": \"application/json\",\"key\":key}\n",
    "\n",
    "response = requests.get(url, headers=headers).json()"
   ]
  },
  {
   "cell_type": "code",
   "execution_count": 20,
   "id": "63451596-3cd8-461a-ac4a-7059d579b3d3",
   "metadata": {
    "tags": []
   },
   "outputs": [
    {
     "data": {
      "text/plain": [
       "{'data': [{'transaction_id': 'b3fdbe4038ccaef707691ebb26b04420aac893b6089ab86a560acbd7ee5b9423',\n",
       "   'token_info': {'symbol': 'USDT',\n",
       "    'address': 'TR7NHqjeKQxGTCi8q8ZY4pL8otSzgjLj6t',\n",
       "    'decimals': 6,\n",
       "    'name': 'Tether USD'},\n",
       "   'block_timestamp': 1657443258000,\n",
       "   'from': 'TKGzxB7sLhgKfK9Jfa27Z4R34kj9ZrVeb6',\n",
       "   'to': 'TEDdBBHFZxMege87X3pmuiSFhnmH4cHVFj',\n",
       "   'type': 'Transfer',\n",
       "   'value': '2300000000000'},\n",
       "  {'transaction_id': '3db99cc6035222201ad8b328f139dda0c5e338265961d4715a6dd7b760ed9ece',\n",
       "   'token_info': {'symbol': 'USDT',\n",
       "    'address': 'TR7NHqjeKQxGTCi8q8ZY4pL8otSzgjLj6t',\n",
       "    'decimals': 6,\n",
       "    'name': 'Tether USD'},\n",
       "   'block_timestamp': 1657271277000,\n",
       "   'from': 'TNXoiAJ3dct8Fjg4M9fkLFh9S2v9TXc32G',\n",
       "   'to': 'TKGzxB7sLhgKfK9Jfa27Z4R34kj9ZrVeb6',\n",
       "   'type': 'Transfer',\n",
       "   'value': '1100000000000'},\n",
       "  {'transaction_id': '35d46cac53ae1a0dec18af3335da9f92e91d5853c1a2b82f5b81817225c937a6',\n",
       "   'token_info': {'symbol': 'KYhaxi.com',\n",
       "    'address': 'TLQJuGoiDjDnNT4Yjd6rAU9CZB6PFnjzvR',\n",
       "    'decimals': 6,\n",
       "    'name': 'KYhaxi.com'},\n",
       "   'block_timestamp': 1657270578000,\n",
       "   'from': 'TDwuuvymtEFkbqx6yiK5ubDXJoR6S9Zggg',\n",
       "   'to': 'TKGzxB7sLhgKfK9Jfa27Z4R34kj9ZrVeb6',\n",
       "   'type': 'Transfer',\n",
       "   'value': '499999888000'},\n",
       "  {'transaction_id': 'b6d610ccd03e42b4a2f2eb11ab5b2040fa603c9f5a884b3ab818fc4953f567ff',\n",
       "   'token_info': {'symbol': 'USDT',\n",
       "    'address': 'TR7NHqjeKQxGTCi8q8ZY4pL8otSzgjLj6t',\n",
       "    'decimals': 6,\n",
       "    'name': 'Tether USD'},\n",
       "   'block_timestamp': 1657270572000,\n",
       "   'from': 'TQrY8tryqsYVCYS3MFbtffiPp2ccyn4STm',\n",
       "   'to': 'TKGzxB7sLhgKfK9Jfa27Z4R34kj9ZrVeb6',\n",
       "   'type': 'Transfer',\n",
       "   'value': '1200000000000'}],\n",
       " 'success': True,\n",
       " 'meta': {'at': 1659404297878, 'page_size': 4}}"
      ]
     },
     "execution_count": 20,
     "metadata": {},
     "output_type": "execute_result"
    }
   ],
   "source": [
    "response"
   ]
  },
  {
   "cell_type": "code",
   "execution_count": 15,
   "id": "517d6120-d19c-4723-ace9-54de5dca1760",
   "metadata": {
    "tags": []
   },
   "outputs": [
    {
     "data": {
      "text/plain": [
       "'2022-07-08 16:56:12'"
      ]
     },
     "execution_count": 15,
     "metadata": {},
     "output_type": "execute_result"
    }
   ],
   "source": [
    "timeArray = time.localtime(1657270572)\n",
    "otherStyleTime = time.strftime(\"%Y-%m-%d %H:%M:%S\", timeArray)\n",
    "otherStyleTime"
   ]
  },
  {
   "cell_type": "code",
   "execution_count": null,
   "id": "9bd75bf3-ef42-4b31-839b-becca2dafdb7",
   "metadata": {},
   "outputs": [],
   "source": []
  }
 ],
 "metadata": {
  "kernelspec": {
   "display_name": "Python 3 (ipykernel)",
   "language": "python",
   "name": "python3"
  },
  "language_info": {
   "codemirror_mode": {
    "name": "ipython",
    "version": 3
   },
   "file_extension": ".py",
   "mimetype": "text/x-python",
   "name": "python",
   "nbconvert_exporter": "python",
   "pygments_lexer": "ipython3",
   "version": "3.9.12"
  }
 },
 "nbformat": 4,
 "nbformat_minor": 5
}

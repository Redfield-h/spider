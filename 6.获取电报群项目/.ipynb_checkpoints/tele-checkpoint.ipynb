{
 "cells": [
  {
   "cell_type": "code",
   "execution_count": 1,
   "id": "4fc545ff-e67d-47af-9e91-d0f851f6ef0e",
   "metadata": {},
   "outputs": [],
   "source": [
    "import json\n",
    "import time\n",
    "import re\n",
    "import os\n",
    "import sys\n",
    "import subprocess\n",
    "from bs4 import BeautifulSoup\n",
    "from selenium import webdriver\n",
    "from selenium.webdriver.chrome.options import Options\n",
    "from selenium.webdriver.common.action_chains import ActionChains #模拟鼠标\n",
    "from selenium.webdriver.common.by import By"
   ]
  },
  {
   "cell_type": "code",
   "execution_count": null,
   "id": "d7139e21-e793-4fa7-beea-1d9afec4dae8",
   "metadata": {
    "tags": []
   },
   "outputs": [],
   "source": [
    "# os.chdir('C:\\Program Files\\Google\\Chrome\\Application')\n",
    "# a = 'chrome.exe --remote-debugging-port=9525 --user-data-dir=\"D:\\AutomationProfile\"'\n",
    "# os.system(a)\n",
    "\n",
    "# # os.chdir(r\"D:\\vscodefile\\7.telegram\")\n",
    "# chrome_options = Options()\n",
    "# # chrome_options.add_argument('headless') #无界面\n",
    "# chrome_options.add_experimental_option(\"debuggerAddress\", \"127.0.0.1:9527\")\n",
    "# # driver就是当前浏览器窗口\n",
    "# driver = webdriver.Chrome(options=chrome_options)"
   ]
  },
  {
   "cell_type": "code",
   "execution_count": 2,
   "id": "f0736828-ded7-439f-9a0f-7d98bc417c9e",
   "metadata": {
    "tags": []
   },
   "outputs": [],
   "source": [
    "chrome_options = Options()\n",
    "# chrome_options.add_argument('headless') #无界面\n",
    "driver = webdriver.Chrome(options=chrome_options)\n",
    "driver.maximize_window()  #最大化窗口\n",
    "# driver.set_window_size(1920,1080)  #设置分辨率\n",
    "driver.get(\"https://web.telegram.org/z/\")\n",
    "# driver.get_screenshot_as_file('截图.png')"
   ]
  },
  {
   "cell_type": "code",
   "execution_count": null,
   "id": "8d41416f-d64d-44f7-88b3-92085712ee66",
   "metadata": {
    "tags": []
   },
   "outputs": [],
   "source": [
    "#登录窗\n",
    "page_value = \"/html/body/div[1]/div/div/div/div/div/button[1]\"\n",
    "driver.find_element(by=By.XPATH,value=page_value).click()\n",
    "time.sleep(10)\n",
    "#输入手机号登录\n",
    "page_value = \"/html/body/div[1]/div/div/div/div/div/form/div[2]/input\"\n",
    "driver.find_element(by=By.XPATH,value=page_value).clear()\n",
    "time.sleep(1)\n",
    "page_value = \"/html/body/div[1]/div/div/div/div/div/form/div[2]/input\"\n",
    "driver.find_element(by=By.XPATH,value=page_value).send_keys(input(\"请输入手机号+86\"))\n",
    "time.sleep(10)\n",
    "#登录\n",
    "page_value = \"/html/body/div[1]/div/div/div/div/div/form/button[1]/div\"\n",
    "driver.find_element(by=By.XPATH,value=page_value).click()\n",
    "time.sleep(10)\n",
    "#输入验证码\n",
    "page_value = \"/html/body/div[1]/div/div/div/div/div/div[2]/input\"\n",
    "driver.find_element(by=By.XPATH,value=page_value).send_keys(input(\"请输入验证码\"))\n",
    "time.sleep(10)\n",
    "#转到项目发布群页面\n",
    "page_value = '/html/body/div[1]/div/div/div/div/div[1]/div[1]/div/div/div[2]/div/div/div[1]/div[2]/span'\n",
    "driver.find_element(by=By.XPATH,value=page_value).click()"
   ]
  },
  {
   "cell_type": "code",
   "execution_count": null,
   "id": "77c94bc2-09f4-4173-90e8-e2494b137b74",
   "metadata": {},
   "outputs": [],
   "source": [
    "page_value = \"/html/body/div[1]/div/div/div/div/div/form/div[2]/input\"\n",
    "driver.find_element(by=By.XPATH,value=page_value).clear()"
   ]
  },
  {
   "cell_type": "code",
   "execution_count": null,
   "id": "8f0223ed-3c2d-4e50-a941-890d3fbcfb51",
   "metadata": {
    "tags": []
   },
   "outputs": [],
   "source": [
    "#全部的项目发布群\n",
    "page_value = \"/html/body/div[1]/div/div/div/div/div[1]/div[1]/div/div/div[2]/div/div/div[2]/div[2]/div/div/div\"\n",
    "all_groups = driver.find_elements(by=By.XPATH,value=page_value)\n",
    "for i in range(len(all_groups)):\n",
    "    if '亮剑社区' in all_groups[i].text:\n",
    "        all_groups[i].click()\n",
    "        ###获取当日发布项目详细页面（若存在）\n",
    "        page_value = '/html/body/div[1]/div/div/div/div/div[2]/div[3]/div[1]/div[2]/button/i'\n",
    "        driver.find_element(by=By.XPATH,value=page_value).click()\n",
    "        #今日项目\n",
    "        k = 1\n",
    "        while True:\n",
    "            try:\n",
    "                page_value = f\"/html/body/div[1]/div/div/div/div/div[2]/div[3]/div[2]/div[2]/div[1]/div/div[{k}]/div[1]/span\"\n",
    "                date = driver.find_element(by=By.XPATH,value=page_value).text\n",
    "            except:\n",
    "                k+=1\n",
    "                continue\n",
    "\n",
    "            if date == 'Today':\n",
    "                page_value = f\"/html/body/div[1]/div/div/div/div/div[2]/div[3]/div[2]/div[2]/div[1]/div/div[{k}]\"\n",
    "                dr = driver.find_element(by=By.XPATH,value=page_value).text\n",
    "                ans = {'项目名称':[],'项目机制':[],'合约地址':[],'中文电报':[],'官方电报':[],'官方网站':[],'官方推特':[]}\n",
    "                for pro in re.findall(\"(?=项目名称).*?(?=＿＿＿＿＿)\",dr.replace('\\n','')):\n",
    "                    ans['项目名称'].append(re.search('(?<=项目名称：).*?(?=项目机制)',pro).group())\n",
    "                    ans['项目机制'].append(re.search('(?<=项目机制：).*?(?=合约地址)',pro).group())\n",
    "                    ans['合约地址'].append(re.search('(?<=合约地址：).*?(?=中文电报)',pro).group())\n",
    "                    ans['中文电报'].append(re.search('(?<=中文电报：).*?(?=官方电报)',pro).group())\n",
    "                    ans['官方电报'].append(re.search('(?<=官方电报：).*?(?=官方网站)',pro).group())\n",
    "                    ans['官方网站'].append(re.search('(?<=官方网站：).*?(?=官方推特)',pro).group())\n",
    "                    ans['官方推特'].append(re.search('(?<=官方推特：).*',pro).group())\n",
    "                break\n",
    "            else:\n",
    "                k+=1"
   ]
  },
  {
   "cell_type": "code",
   "execution_count": 8,
   "id": "996c63fd-38c3-40e9-b00e-34e6fc30b31f",
   "metadata": {},
   "outputs": [
    {
     "name": "stdout",
     "output_type": "stream",
     "text": [
      "[]\n"
     ]
    }
   ],
   "source": [
    "print(driver.get_cookies())"
   ]
  },
  {
   "cell_type": "code",
   "execution_count": null,
   "id": "37224e14-c3a9-4f31-af37-2e450311deee",
   "metadata": {},
   "outputs": [],
   "source": [
    "猎人社区\n",
    "头号玩家\n",
    "亮剑社区\n",
    "king\n",
    "叮当社区\n",
    "花田厝\n",
    "红帽国际"
   ]
  },
  {
   "cell_type": "code",
   "execution_count": null,
   "id": "c9829296-8057-4b58-83d0-d00cc4b50623",
   "metadata": {},
   "outputs": [],
   "source": []
  },
  {
   "cell_type": "code",
   "execution_count": null,
   "id": "dff7a85d-19c4-4f0d-afe8-6cd7331db068",
   "metadata": {},
   "outputs": [],
   "source": []
  },
  {
   "cell_type": "code",
   "execution_count": null,
   "id": "a4e42581-8e2e-458f-b6db-d62335428902",
   "metadata": {},
   "outputs": [],
   "source": []
  },
  {
   "cell_type": "code",
   "execution_count": null,
   "id": "26df0aaf-c2ac-467c-ba01-1cd32b160174",
   "metadata": {},
   "outputs": [],
   "source": []
  },
  {
   "cell_type": "code",
   "execution_count": 3,
   "id": "c86c59b0-ea7f-4a6f-ae69-8e6e1001a568",
   "metadata": {},
   "outputs": [
    {
     "name": "stdout",
     "output_type": "stream",
     "text": [
      "===》正在后台打开chrome浏览器\n",
      "===》正在打开登录页面\n"
     ]
    },
    {
     "name": "stdin",
     "output_type": "stream",
     "text": [
      "===>请输入手机号+86 8617664092025\n"
     ]
    },
    {
     "name": "stdout",
     "output_type": "stream",
     "text": [
      "===》接收验证码中\n"
     ]
    },
    {
     "name": "stdin",
     "output_type": "stream",
     "text": [
      "===>请输入验证码 73134\n"
     ]
    },
    {
     "name": "stdout",
     "output_type": "stream",
     "text": [
      "===》正在登录\n",
      "===》正在爬取当日发布项目\n",
      "               项目名称                                               项目机制  \\\n",
      "0  Brain Soup（已经开盘）  应用型代币Powabit诞生于在加密领域拥有丰富经验的开发人员和投资者的创造力。通过深入分析...   \n",
      "\n",
      "                                         合约地址  \\\n",
      "0  0x5fda925294f9e5b31b7c0e81bad6bad5b5e792ee   \n",
      "\n",
      "                                 中文电报                          官方电报  \\\n",
      "0  https://t.me/PowabitOfficial_China  https://t.me/PowabitOfficial   \n",
      "\n",
      "                   官方网站                              官方推特  \n",
      "0  https://powabit.com/  https://twitter.com/powabit?s=21  \n"
     ]
    }
   ],
   "source": [
    "%run tele_power.py"
   ]
  },
  {
   "cell_type": "code",
   "execution_count": null,
   "id": "88ab2ecc-836f-46ca-8174-64fec2b03bc4",
   "metadata": {},
   "outputs": [],
   "source": []
  }
 ],
 "metadata": {
  "kernelspec": {
   "display_name": "Python 3 (ipykernel)",
   "language": "python",
   "name": "python3"
  },
  "language_info": {
   "codemirror_mode": {
    "name": "ipython",
    "version": 3
   },
   "file_extension": ".py",
   "mimetype": "text/x-python",
   "name": "python",
   "nbconvert_exporter": "python",
   "pygments_lexer": "ipython3",
   "version": "3.9.12"
  }
 },
 "nbformat": 4,
 "nbformat_minor": 5
}

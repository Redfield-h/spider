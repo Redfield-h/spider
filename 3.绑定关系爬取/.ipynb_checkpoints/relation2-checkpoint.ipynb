{
 "cells": [
  {
   "cell_type": "code",
   "execution_count": null,
   "id": "21569c4e-2d70-4941-8f42-7431ccdad174",
   "metadata": {
    "tags": []
   },
   "outputs": [],
   "source": [
    "import time\n",
    "import threading\n",
    "import requests\n",
    "import re\n",
    "import pandas as pd\n",
    "from tqdm import tqdm\n",
    "import pymysql\n",
    "from multiprocessing.dummy import Pool\n",
    "\n",
    "def request_(page_number):\n",
    "    \"\"\"\n",
    "    请求网页\n",
    "    \"\"\"\n",
    "    global error_url\n",
    "    global res\n",
    "    # lock.acquire()    #线程锁\n",
    "    addr = \"0x2d50c01669949df3bd21142f8f20ab14c48d1567\"\n",
    "    key = \"ckey_2545e4a689bb4d4c87d64889755\"\n",
    "    page_size = 10\n",
    "    \n",
    "    while True:\n",
    "        params = {\n",
    "            \"page-number\":f\"{page_number}\",\n",
    "            \"page-size\":f\"{page_size}\",\n",
    "            \"key\":key\n",
    "            }\n",
    "        url = f\"https://api.covalenthq.com/v1/56/address/{addr}/transactions_v2/?quote-currency=USD&page-size={page_size}&page-number={page_number}\"\n",
    "        try:\n",
    "            r = requests.get(url,params=params)\n",
    "        except Exception as e:\n",
    "            print(f\"捕获异常{e}\")\n",
    "            print(\"捕获异常，等待 {} 秒后继续尝试请求！\".format(3))\n",
    "            time.sleep(3)\n",
    "            continue\n",
    "\n",
    "        if (r.status_code == 200) and (len(r.json()['data']['items'])>0):\n",
    "            for i in r.json()['data']['items']:\n",
    "                try:\n",
    "                    if (i['successful'] == True) and (0 < len(i['log_events']) <= 2) and (i[\"to_address_label\"]==None):\n",
    "                        date = i['block_signed_at'].replace('T',' ').replace('Z','') #交易日期\n",
    "                        tx_hash = i['tx_hash'] #交易哈希\n",
    "                        from_address = i['from_address'] #交易来源\n",
    "                        raw_log_data = i['log_events'][-1]['raw_log_data'] #交易日志\n",
    "                        to_address = '0x'+raw_log_data[-40:] #交易去处\n",
    "                        \n",
    "                        res['date'].append(date)\n",
    "                        res['tx_hash'].append(tx_hash)\n",
    "                        res['from_address'].append(from_address)\n",
    "                        res['to_address'].append(to_address)\n",
    "                        \n",
    "                except Exception as e:\n",
    "                    print(e)\n",
    "                    error_url.append([e,i])\n",
    "                    continue\n",
    "                    \n",
    "        elif (r.status_code == 200) and (len(r.json()['data']['items'])==0):\n",
    "            # lock.release()    #释放锁\n",
    "            pool_sema.release() #释放已完成线程\n",
    "            return pd.DataFrame(res)\n",
    "        \n",
    "        elif r.status_code != 200: \n",
    "            time.sleep(1)\n",
    "            continue\n",
    "            \n",
    "            \n",
    "            \n",
    "error_url = []\n",
    "res = {'date':[],'tx_hash':[],'from_address':[],'to_address':[]}\n",
    "\n",
    "lock = threading.Lock() #设置线程锁\n",
    "max_connection = 4 #4线程\n",
    "pool_sema = threading.BoundedSemaphore(max_connection) #最大线程量\n",
    "\n",
    "thread_list = []\n",
    "for i in tqdm(range(1,10)):\n",
    "    pool_sema.acquire() \n",
    "    thread = threading.Thread(target=request_,args=[i])\n",
    "    thread.start()\n",
    "    thread_list.append(thread)\n",
    "\n",
    "for t in thread_list:\n",
    "    t.join()\n",
    "    "
   ]
  },
  {
   "cell_type": "code",
   "execution_count": null,
   "id": "746572b0-9a2c-4ba7-bf24-e6e28ede0236",
   "metadata": {},
   "outputs": [],
   "source": []
  },
  {
   "cell_type": "code",
   "execution_count": null,
   "id": "0530a44c-eb97-4f9c-957a-43089c939605",
   "metadata": {},
   "outputs": [],
   "source": []
  },
  {
   "cell_type": "code",
   "execution_count": 9,
   "id": "e5b63966-3860-48f5-b531-b7630dab7f65",
   "metadata": {
    "tags": []
   },
   "outputs": [],
   "source": [
    "from scrapy.http import HtmlResponse\n",
    "r = HtmlResponse(url='')"
   ]
  },
  {
   "cell_type": "code",
   "execution_count": 17,
   "id": "1e777c94-40ab-450a-9d98-4450e0e870a7",
   "metadata": {
    "tags": []
   },
   "outputs": [
    {
     "data": {
      "text/plain": [
       "True"
      ]
     },
     "execution_count": 17,
     "metadata": {},
     "output_type": "execute_result"
    }
   ],
   "source": [
    "not r.url"
   ]
  },
  {
   "cell_type": "code",
   "execution_count": null,
   "id": "423a24aa-84de-4e0f-baff-683ed95bf8bf",
   "metadata": {},
   "outputs": [],
   "source": []
  },
  {
   "cell_type": "code",
   "execution_count": null,
   "id": "e9b782a4-c0e2-4a37-be69-9cd4fa4c7b92",
   "metadata": {},
   "outputs": [],
   "source": []
  },
  {
   "cell_type": "code",
   "execution_count": 1,
   "id": "1b76e121-75c2-4d39-bcb7-775841b8f3c9",
   "metadata": {},
   "outputs": [],
   "source": [
    "import requests"
   ]
  },
  {
   "cell_type": "code",
   "execution_count": 18,
   "id": "76a61eb7-e012-44ad-b6f1-bb4c873ec214",
   "metadata": {},
   "outputs": [],
   "source": [
    "r = requests.get('https://api.covalenthq.com/v1/56/address/0xAaA84DeE0C325d85B16DCfBa7d31390888B7e512/transactions_v2/?quote-currency=USD&page-size=10&page-number=10&key=ckey_2545e4a689bb4d4c87d64889755')"
   ]
  },
  {
   "cell_type": "code",
   "execution_count": 24,
   "id": "4f524b4e-5f1d-4f27-bbcc-9b3a348ba34b",
   "metadata": {},
   "outputs": [
    {
     "data": {
      "text/plain": [
       "200"
      ]
     },
     "execution_count": 24,
     "metadata": {},
     "output_type": "execute_result"
    }
   ],
   "source": [
    "r.status_code"
   ]
  },
  {
   "cell_type": "code",
   "execution_count": null,
   "id": "91825cee-6ba9-4061-bd3d-da204163f732",
   "metadata": {},
   "outputs": [],
   "source": []
  }
 ],
 "metadata": {
  "kernelspec": {
   "display_name": "Python 3 (ipykernel)",
   "language": "python",
   "name": "python3"
  },
  "language_info": {
   "codemirror_mode": {
    "name": "ipython",
    "version": 3
   },
   "file_extension": ".py",
   "mimetype": "text/x-python",
   "name": "python",
   "nbconvert_exporter": "python",
   "pygments_lexer": "ipython3",
   "version": "3.9.12"
  }
 },
 "nbformat": 4,
 "nbformat_minor": 5
}

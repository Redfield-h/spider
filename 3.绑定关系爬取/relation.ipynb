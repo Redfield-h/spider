{
 "cells": [
  {
   "cell_type": "code",
   "execution_count": null,
   "id": "a71f5845-033d-4e40-8a0b-66013c55ce35",
   "metadata": {
    "tags": []
   },
   "outputs": [],
   "source": [
    "import requests\n",
    "import time\n",
    "import re\n",
    "import pandas as pd\n",
    "import tqdm\n",
    "import pymysql\n",
    "from multiprocessing.dummy import Pool\n",
    "addr = \"0x2d50c01669949df3bd21142f8f20ab14c48d1567\"\n",
    "key = \"ckey_2545e4a689bb4d4c87d64889755\"\n",
    "\n",
    "class GetERC20:\n",
    "    def __init__(self,addr):\n",
    "        #合约地址\n",
    "        self.addr = addr\n",
    "        #链接数据库\n",
    "        self.db = pymysql.connect(host=\"192.168.11.22\",port=3306,user=\"root\",password=\"!Q2w3e4r\",database=\"cure\",charset=\"utf8\")\n",
    "        self.cursor = self.db.cursor()\n",
    "        \n",
    "    def save_sql(self,date,tx_hash,from_address,to_address):\n",
    "        \"\"\"\n",
    "        写入数据库\n",
    "        \"\"\"\n",
    "        sql = f\"insert into relation2(date,tx_hash,from_address,to_address) values ('{date}','{tx_hash}','{from_address}','{to_address}')\"\n",
    "        self.cursor.execute(sql)\n",
    "        self.db.commit()\n",
    "        \n",
    "    def request(self):\n",
    "        \"\"\"\n",
    "        请求网页\n",
    "        \"\"\"\n",
    "        global error_url\n",
    "        global res\n",
    "        page_number = 1\n",
    "        page_size = 1000\n",
    "        while True:\n",
    "            params = {\n",
    "                \"page-number\":f\"{page_number}\",\n",
    "                \"page-size\":f\"{page_size}\",\n",
    "                \"key\":\"ckey_2545e4a689bb4d4c87d64889755\"\n",
    "                }\n",
    "            url = f\"https://api.covalenthq.com/v1/56/address/{self.addr}/transactions_v2/?quote-currency=USD&page-size={page_size}&page-number={page_number}\"\n",
    "            try:\n",
    "                r = requests.get(url,params=params)\n",
    "            except Exception as e:\n",
    "                # print(f\"捕获异常{e}\")\n",
    "                # print(\"捕获异常，等待 {} 秒后继续尝试请求！\".format(3))\n",
    "                # time.sleep(3)\n",
    "                continue\n",
    "            \n",
    "            if (r.status_code == 200) and (len(r.json()['data']['items'])>0):\n",
    "                for i in r.json()['data']['items']:\n",
    "                    try:\n",
    "                        if (i['successful'] == True) and (0 < len(i['log_events']) <= 2) and (i[\"to_address_label\"]==None):\n",
    "                            date = i['block_signed_at'].replace('T',' ').replace('Z','') #交易日期\n",
    "                            tx_hash = i['tx_hash'] #交易哈希\n",
    "                            from_address = i['from_address'] #交易来源\n",
    "                            raw_log_data = i['log_events'][-1]['raw_log_data'] #交易日志\n",
    "                            to_address = '0x'+raw_log_data[-40:] #交易去处\n",
    "                            res['date'].append(date)\n",
    "                            res['tx_hash'].append(tx_hash)\n",
    "                            res['from_address'].append(from_address)\n",
    "                            res['to_address'].append(to_address)\n",
    "                            self.save_sql(date,tx_hash,from_address,to_address)\n",
    "                    except Exception as e:\n",
    "                        error_url.append([e,i])\n",
    "                        continue\n",
    "                page_number+=1\n",
    "                age = len(res['tx_hash'])\n",
    "                if age//2500>0:\n",
    "                    print(f\"已爬取{age}条\")\n",
    "            elif (r.status_code == 200) and (len(r.json()['data']['items'])==0):\n",
    "                print('爬取完毕')\n",
    "                self.db.close()\n",
    "                return pd.DataFrame(res)\n",
    "            elif r.status_code != 200: \n",
    "                time.sleep(5)\n",
    "                continue\n",
    "        \n",
    "                \n",
    "\n",
    "                \n",
    "\n",
    "    def save(self,ans):\n",
    "        return ans.to_excel(f'./result/{self.addr}.xlsx',index=False)\n",
    "        \n",
    "        \n",
    "\n",
    "# def main():\n",
    "error_url = []\n",
    "res = {'date':[],'tx_hash':[],'from_address':[],'to_address':[]}\n",
    "ER = GetERC20(addr)\n",
    "ans = ER.request()\n",
    "ER.save(ans)\n",
    "\n",
    "# if __name__ == \"__main__\":\n",
    "#     main()"
   ]
  },
  {
   "cell_type": "code",
   "execution_count": 1,
   "id": "83c78291-c507-45f2-877b-1f1a76a40a57",
   "metadata": {
    "tags": []
   },
   "outputs": [],
   "source": [
    "import pandas as pd\n",
    "df = pd.read_excel(\"./result/res.xlsx\")"
   ]
  },
  {
   "cell_type": "code",
   "execution_count": 2,
   "id": "22be6316-6958-4e53-8ebc-72340314d94b",
   "metadata": {},
   "outputs": [
    {
     "name": "stderr",
     "output_type": "stream",
     "text": [
      "155207it [19:47, 130.66it/s]\n"
     ]
    }
   ],
   "source": [
    "import pymysql\n",
    "from tqdm import tqdm\n",
    "db = pymysql.connect(host=\"192.168.11.22\",port=3306,user=\"root\",password=\"!Q2w3e4r\",database=\"cure\",charset=\"utf8\")\n",
    "cursor = db.cursor()\n",
    "for date,tx_hash,from_address,to_address in tqdm(zip(df.date,df.tx_hash,df.from_address,df.to_address)):\n",
    "    sql = f\"insert into relation(date,tx_hash,from_address,to_address) values ('{date}','{tx_hash}','{from_address}','{to_address}')\"\n",
    "    cursor.execute(sql)\n",
    "db.commit()\n",
    "db.close()"
   ]
  },
  {
   "cell_type": "code",
   "execution_count": null,
   "id": "d584831a-2ed6-4a9c-8a00-592954486d9e",
   "metadata": {},
   "outputs": [],
   "source": []
  },
  {
   "cell_type": "code",
   "execution_count": null,
   "id": "ebf60f49-262d-4a2c-bb8c-2d425d016ee3",
   "metadata": {},
   "outputs": [],
   "source": []
  },
  {
   "cell_type": "code",
   "execution_count": null,
   "id": "a971840c-1d3e-449d-8eb2-a2cf4cb0d306",
   "metadata": {
    "tags": []
   },
   "outputs": [],
   "source": [
    "import requests\n",
    "# &key=ckey_2545e4a689bb4d4c87d64889755\n",
    "params = {\n",
    "    \"page-number\":1,\n",
    "    \"page-size\":10,\n",
    "    \"key\":\"ckey_2545e4a689bb4d4c87d64889755\"\n",
    "    }\n",
    "url = \"https://api.covalenthq.com/v1/56/address/0x2d50c01669949df3bd21142f8f20ab14c48d1567/transactions_v2/?quote-currency=USD\"\n",
    "r = requests.get(url,params = params)\n",
    "r"
   ]
  },
  {
   "cell_type": "code",
   "execution_count": null,
   "id": "1d32eca0-bee1-4d76-8874-3f92da9a2865",
   "metadata": {},
   "outputs": [],
   "source": []
  },
  {
   "cell_type": "code",
   "execution_count": null,
   "id": "7c1af253-30e2-4102-9275-23cf7f6eac7c",
   "metadata": {},
   "outputs": [],
   "source": []
  },
  {
   "cell_type": "code",
   "execution_count": null,
   "id": "eb5e9b5c-7cf7-46a3-9b07-56792fabeee6",
   "metadata": {},
   "outputs": [],
   "source": []
  },
  {
   "cell_type": "code",
   "execution_count": null,
   "id": "a3feb622-2109-4fbe-8052-ccf75a8dc7a6",
   "metadata": {
    "tags": []
   },
   "outputs": [],
   "source": [
    "\n",
    "for i in r.json()['data']['items']:\n",
    "    if (i['successful'] == True) and (len(i['log_events']) <= 2) and (i[\"to_address_label\"]==None):\n",
    "        date = i['block_signed_at'].replace('T',' ').replace('Z','') #交易日期\n",
    "        tx_hash = i['tx_hash'] #交易哈希\n",
    "        from_address = i['from_address']\n",
    "        raw_log_data = i['log_events'][-1]['raw_log_data'] #交易日志\n",
    "        to_address = '0x'+raw_log_data[-40:] #交易去处\n",
    "        print(raw_log_data)"
   ]
  },
  {
   "cell_type": "code",
   "execution_count": null,
   "id": "8060beb3-2a80-439e-8403-ff0556b9b5eb",
   "metadata": {
    "tags": []
   },
   "outputs": [],
   "source": [
    "i['from_address']"
   ]
  },
  {
   "cell_type": "code",
   "execution_count": null,
   "id": "e575428d-fe7b-479a-a13c-af1f8b86b379",
   "metadata": {},
   "outputs": [],
   "source": [
    "i"
   ]
  },
  {
   "cell_type": "code",
   "execution_count": null,
   "id": "1d2c1982-cedf-4ff7-a3fa-76a1aff9a58c",
   "metadata": {},
   "outputs": [],
   "source": []
  }
 ],
 "metadata": {
  "kernelspec": {
   "display_name": "Python 3 (ipykernel)",
   "language": "python",
   "name": "python3"
  },
  "language_info": {
   "codemirror_mode": {
    "name": "ipython",
    "version": 3
   },
   "file_extension": ".py",
   "mimetype": "text/x-python",
   "name": "python",
   "nbconvert_exporter": "python",
   "pygments_lexer": "ipython3",
   "version": "3.9.12"
  }
 },
 "nbformat": 4,
 "nbformat_minor": 5
}

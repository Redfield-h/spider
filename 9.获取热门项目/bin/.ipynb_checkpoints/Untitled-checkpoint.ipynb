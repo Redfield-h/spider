{
 "cells": [
  {
   "cell_type": "code",
   "execution_count": null,
   "id": "e9d4da75-1189-44d5-9393-ff308b20f055",
   "metadata": {},
   "outputs": [],
   "source": [
    "import os\n",
    "os.chdir('../')\n",
    "import json\n",
    "import time\n",
    "import datetime\n",
    "import re\n",
    "import sys\n",
    "import subprocess\n",
    "import pandas as pd\n",
    "import pytesseract\n",
    "from bs4 import BeautifulSoup\n",
    "from tqdm import tqdm\n",
    "from PIL import Image\n",
    "import base64\n",
    "import cv2 as cv\n",
    "from itertools import zip_longest\n",
    "from selenium import webdriver\n",
    "from selenium.webdriver.chrome.options import Options\n",
    "from selenium.webdriver.common.by import By\n",
    "import threading\n",
    "\n",
    "from conf.setting import *\n",
    "from lib.avedex import GetAve"
   ]
  },
  {
   "cell_type": "code",
   "execution_count": null,
   "id": "44e9a145-33af-419e-9cc9-08959a1b671d",
   "metadata": {
    "tags": []
   },
   "outputs": [],
   "source": [
    "max_connection = 4 #4线程\n",
    "pool_sema = threading.BoundedSemaphore(max_connection) #最大线程量\n",
    "thread_list = []\n",
    "for i in tqdm(range(1,11)):\n",
    "    pool_sema.acquire()\n",
    "    thread = threading.Thread(target=GetAve(i).get_coin)\n",
    "    thread.start()\n",
    "    thread_list.append(thread)\n",
    "    pool_sema.release()\n",
    "\n",
    "for t in thread_list:\n",
    "    t.join()"
   ]
  },
  {
   "cell_type": "code",
   "execution_count": null,
   "id": "fb02f6e1-f268-4603-a63f-0107341ea146",
   "metadata": {},
   "outputs": [],
   "source": []
  },
  {
   "cell_type": "code",
   "execution_count": null,
   "id": "1b1e1c68-205a-46f2-b8e0-3778084fc2ec",
   "metadata": {},
   "outputs": [],
   "source": []
  }
 ],
 "metadata": {
  "kernelspec": {
   "display_name": "Python 3 (ipykernel)",
   "language": "python",
   "name": "python3"
  },
  "language_info": {
   "codemirror_mode": {
    "name": "ipython",
    "version": 3
   },
   "file_extension": ".py",
   "mimetype": "text/x-python",
   "name": "python",
   "nbconvert_exporter": "python",
   "pygments_lexer": "ipython3",
   "version": "3.9.12"
  }
 },
 "nbformat": 4,
 "nbformat_minor": 5
}

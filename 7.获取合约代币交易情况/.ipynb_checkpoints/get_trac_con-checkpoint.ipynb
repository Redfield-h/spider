{
 "cells": [
  {
   "cell_type": "code",
   "execution_count": null,
   "id": "f7df903f-a2c8-4722-935e-ad78e1944eaf",
   "metadata": {},
   "outputs": [],
   "source": [
    "import requests\n",
    "import time\n",
    "import re\n",
    "import pandas as pd\n",
    "from tqdm import tqdm\n",
    "import pymysql\n",
    "from multiprocessing.dummy import Pool\n",
    "key = \"ckey_2545e4a689bb4d4c87d64889755\"\n",
    "# 0xAD0c640dA6A14e1Bb9A48d95609f83982767A047   zk\n",
    "# 0x55d398326f99059fF775485246999027B3197955   usdt\n",
    "\n",
    "class GetERC20:\n",
    "    def __init__(self,addr):\n",
    "        #合约地址\n",
    "        self.addr = addr\n",
    "        self.contract_address = contract_address\n",
    "        \n",
    "    def request(self):\n",
    "        \"\"\"\n",
    "        请求网页\n",
    "        \"\"\"\n",
    "        # global error_url\n",
    "        global ans\n",
    "        page_number = 0\n",
    "        page_size = 100\n",
    "        while True:\n",
    "            params = {\n",
    "                \"page-number\":f\"{page_number}\",\n",
    "                \"page-size\":f\"{page_size}\",\n",
    "                \"key\":\"ckey_2545e4a689bb4d4c87d64889755\",  #密钥\n",
    "                'contract-address':self.contract_address  #代币地址\n",
    "                }\n",
    "            url = f\"https://api.covalenthq.com/v1/56/address/{self.addr}/transfers_v2/?quote-currency=USD\"\n",
    "            try:\n",
    "                r = requests.get(url,params=params)\n",
    "            except Exception as e:\n",
    "                # print(f\"捕获异常{e}\")\n",
    "                # print(\"捕获异常，等待 {} 秒后继续尝试请求！\".format(3))\n",
    "                # time.sleep(3)\n",
    "                print(r)\n",
    "                continue\n",
    "            \n",
    "            if (r.status_code == 200) and (len(r.json()['data']['items'])>0):\n",
    "                for i in tqdm(r.json()['data']['items']):\n",
    "                    if i['successful'] == True:\n",
    "                        tx_hash = i['tx_hash']\n",
    "                        from_address = i['transfers'][0]['from_address']\n",
    "                        to_address = i['transfers'][0]['to_address']\n",
    "                        value_ = i['transfers'][0]['delta']\n",
    "                        contract_ticker_symbol = i['transfers'][0]['contract_ticker_symbol']\n",
    "                        transfer_type = i['transfers'][0]['transfer_type']\n",
    "                        ans['tx_hash'].append(tx_hash)\n",
    "                        ans['from'].append(from_address)\n",
    "                        ans['to'].append(to_address)\n",
    "                        ans['value'].append(value_)\n",
    "                        ans['symbol'].append(contract_ticker_symbol)\n",
    "                        ans['transfer_type'].append(transfer_type)\n",
    "\n",
    "                page_number+=1\n",
    "                # age = len(ans['tx_hash'])\n",
    "                # if age//2500>0:\n",
    "                #     print(f\"已爬取{age}条\")\n",
    "            elif (r.status_code == 200) and (len(r.json()['data']['items'])==0):\n",
    "                print('爬取完毕')\n",
    "                break\n",
    "            elif r.status_code != 200: \n",
    "                time.sleep(5)\n",
    "                continue\n",
    "                \n",
    "\n",
    "    def save(self,ans):\n",
    "        return ans.to_excel(f'./result/{self.addr}.xlsx',index=False)\n",
    "        \n",
    "        \n",
    "\n",
    "\n",
    "# addr = \"0xbdd030fa56eb397c528e11499b5f6f5a10ed1d82\"  #池子地址\n",
    "# contract_address=\"0x55d398326f99059fF775485246999027B3197955\"    #交易代币地址usdt/BNB\n",
    "\n",
    "addr = \"0x5799Cc9bC780e529d8B4e64b9E8C5505923a8005    \"  #池子地址\n",
    "contract_address=\"0x55d398326f99059fF775485246999027B3197955\"    #交易代币地址usdt/BNB\n",
    "ans = {'transfer_type':[],'from':[],'to':[],'value':[],'symbol':[],'tx_hash':[]}\n",
    "\n",
    "ER = GetERC20(addr)\n",
    "ER.request()"
   ]
  },
  {
   "cell_type": "code",
   "execution_count": null,
   "id": "d8c4813c-3984-471e-8136-8a9b0fb3262a",
   "metadata": {
    "tags": []
   },
   "outputs": [],
   "source": [
    "df = pd.DataFrame(ans)\n",
    "df['len'] = df['value'].map(lambda i:len(i))\n",
    "df['len'].min()\n",
    "df['value'] = df['value'].map(lambda i:int(i[:-10])/100000000)"
   ]
  },
  {
   "cell_type": "code",
   "execution_count": null,
   "id": "97ef277e-17b0-4267-8506-41b2c4d23cb8",
   "metadata": {},
   "outputs": [],
   "source": [
    "df[df['from']=='0xab0667de161274f495b883f281b4ca5dcb32ec96'].sort_values('value',ascending=False)[['to','value','tx_hash']].head(10)"
   ]
  },
  {
   "cell_type": "code",
   "execution_count": null,
   "id": "2b6f8735-4029-4c28-bdc2-c1797f403e6e",
   "metadata": {},
   "outputs": [],
   "source": [
    "df.groupby(['from','to'],as_index=False)['value'].sum().sort_values('value',ascending=False).reset_index(drop=True).head(10)"
   ]
  },
  {
   "cell_type": "code",
   "execution_count": null,
   "id": "da779e8e-e12a-468f-b611-1cf4c22b1252",
   "metadata": {
    "tags": []
   },
   "outputs": [],
   "source": [
    "df[df['transfer_type']=='OUT']['value'].sum()"
   ]
  },
  {
   "cell_type": "code",
   "execution_count": null,
   "id": "53a56db3-765b-4c1f-8637-c3524d800900",
   "metadata": {},
   "outputs": [],
   "source": [
    "df[df['transfer_type']=='IN']['value'].sum()"
   ]
  },
  {
   "cell_type": "code",
   "execution_count": null,
   "id": "c3e12e1b-62a5-4f71-8d2b-d0c7079fa9bb",
   "metadata": {
    "tags": []
   },
   "outputs": [],
   "source": [
    "df[df['to']=='0x9D7008709084FECa4910fC0f82855fdbA584BAbE']"
   ]
  },
  {
   "cell_type": "code",
   "execution_count": null,
   "id": "e71c6ec0-9401-4561-a998-ce352f95c880",
   "metadata": {
    "tags": []
   },
   "outputs": [],
   "source": [
    "df.groupby(['to'],as_index=False)['value'].sum().sort_values('value',ascending=False)"
   ]
  },
  {
   "cell_type": "code",
   "execution_count": null,
   "id": "31371a8e-fde6-4c6f-a23b-d070d191f54f",
   "metadata": {},
   "outputs": [],
   "source": []
  }
 ],
 "metadata": {
  "kernelspec": {
   "display_name": "Python 3 (ipykernel)",
   "language": "python",
   "name": "python3"
  },
  "language_info": {
   "codemirror_mode": {
    "name": "ipython",
    "version": 3
   },
   "file_extension": ".py",
   "mimetype": "text/x-python",
   "name": "python",
   "nbconvert_exporter": "python",
   "pygments_lexer": "ipython3",
   "version": "3.9.12"
  }
 },
 "nbformat": 4,
 "nbformat_minor": 5
}

{
 "cells": [
  {
   "cell_type": "code",
   "execution_count": null,
   "id": "9daefaa5-41ca-4143-8318-84d60fe9274d",
   "metadata": {
    "tags": []
   },
   "outputs": [],
   "source": [
    "import json\n",
    "import time\n",
    "import datetime\n",
    "import re\n",
    "import os\n",
    "import sys\n",
    "import subprocess\n",
    "import pandas as pd\n",
    "import pytesseract\n",
    "from bs4 import BeautifulSoup\n",
    "from tqdm import tqdm\n",
    "from PIL import Image\n",
    "import base64\n",
    "import cv2 as cv\n",
    "from itertools import zip_longest\n",
    "from selenium import webdriver\n",
    "from selenium.webdriver.chrome.options import Options\n",
    "from selenium.webdriver.common.by import By\n",
    "import threading\n",
    "\n",
    "def request_url(no):\n",
    "    \"\"\"\n",
    "    请求网页\n",
    "    \"\"\"\n",
    "    global result\n",
    "    \n",
    "    chrome_options = Options()\n",
    "    # chrome_options.add_argument('--headless') #无界面\n",
    "    # chrome_options.add_argument('blink-settings=imagesEnabled=false') #不加载图片\n",
    "    chrome_options.add_experimental_option('excludeSwitches', ['enable-automation']) #防检测\n",
    "    driver = webdriver.Chrome(options=chrome_options)\n",
    "    driver.maximize_window()  #最大化窗口\n",
    "    # driver.set_window_size(1920,1080)  #设置分辨率\n",
    "    driver.get(\"https://www.mytoken.io/zh/latest/\")\n",
    "    \n",
    "    #跳过公告弹窗\n",
    "    time.sleep(2)\n",
    "    try:\n",
    "        page_value = '/html/body/div[2]/div/div[2]/div/div[2]/button/span'\n",
    "        driver.implicitly_wait(30)  #隐式等待5秒\n",
    "        driver.find_element(by=By.XPATH,value=page_value).click()\n",
    "    except:\n",
    "        pass\n",
    "    \n",
    "    #按24h增长率排序\n",
    "    time.sleep(2)\n",
    "    try:\n",
    "        page_value = \"/html/body/div/div/main/div/div/div[3]/table/thead/tr/th[5]/div/div/img[2]\"\n",
    "        driver.find_element(by=By.XPATH,value=page_value).click()\n",
    "    except:\n",
    "        print(no)\n",
    "    \n",
    "    #\n",
    "    time.sleep(2)\n",
    "    page_value = f\"/html/body/div/div/main/div/div/div[3]/table/tbody/tr[{no}]\"\n",
    "    driver.implicitly_wait(30)  #隐式等待5秒\n",
    "    coin = driver.find_element(by=By.XPATH,value=page_value).text.split('\\n')[:-3]\n",
    "    ans = ['序号','名称1','名称2','价格','24h','7d']\n",
    "    res = dict(zip_longest(ans,coin))\n",
    "    \n",
    "    #跳转到详细页面\n",
    "    page_value = f\"/html/body/div/div/main/div/div/div[3]/table/tbody/tr[{no}]\"\n",
    "    driver.implicitly_wait(30)  #隐式等待5秒\n",
    "    driver.find_element(by=By.XPATH,value=page_value).click()\n",
    "    time.sleep(5)\n",
    "    \n",
    "    #所属链\n",
    "    try:\n",
    "        page_value = f\"/html/body/div[1]/div/main/div/div/div[3]/div[2]/div[3]/div/div[1]\"\n",
    "        driver.implicitly_wait(30)  #隐式等待5秒\n",
    "        chain = driver.find_element(by=By.XPATH,value=page_value).text\n",
    "        if chain.split('\\n')[0] == '基础链':\n",
    "            res['所属链'] = chain.split('\\n')[-1]\n",
    "    except:\n",
    "        pass\n",
    "        \n",
    "    #合约\n",
    "    try:\n",
    "        page_value = f\"/html/body/div[1]/div/main/div/div/div[3]/div[2]/div[3]/div/div[2]\"\n",
    "        driver.implicitly_wait(30)  #隐式等待5秒\n",
    "        contract = driver.find_element(by=By.XPATH,value=page_value).text\n",
    "        if contract.split('\\n')[0] in ['BSC','Ethereum','Polygon']:\n",
    "            res['合约'] = contract.split('\\n')[1]\n",
    "    except:\n",
    "        pass\n",
    "        \n",
    "    #链接\n",
    "    links = []\n",
    "    try:\n",
    "        page_value = f\"/html/body/div[1]/div/main/div/div/div[3]/div[2]/div[4]/div/div\"\n",
    "        driver.implicitly_wait(30)  #隐式等待5秒\n",
    "        link_list = driver.find_elements(by=By.XPATH,value=page_value)\n",
    "        length = len(link_list)\n",
    "        for i in range(length):\n",
    "            if link_list[i].text.split('\\n')[0] == '官网':\n",
    "                page_value = f\"/html/body/div[1]/div/main/div/div/div[3]/div[2]/div[4]/div/div[{i+1}]/a\"\n",
    "                res['官网'] = driver.find_element(by=By.XPATH,value=page_value).get_attribute('href')\n",
    "\n",
    "            elif link_list[i].text.split('\\n')[0] == '社交媒体':\n",
    "                page_value = f\"/html/body/div[1]/div/main/div/div/div[3]/div[2]/div[4]/div/div[{i+1}]/div/a\"\n",
    "                for j in (driver.find_elements(by=By.XPATH,value=page_value)):\n",
    "                    links.append(j.get_attribute('href'))\n",
    "                res['相关链接'] = links\n",
    "    except:\n",
    "        pass\n",
    "    \n",
    "    \n",
    "    \n",
    "    \n",
    "    lock.acquire()    #线程锁\n",
    "    result.append(res)    \n",
    "    lock.release()    #释放锁\n",
    "    \n",
    "    print(f'{no}爬取完成')\n",
    "    # driver.close()\n",
    "    pool_sema.release() #释放已完成线程\n",
    "\n",
    "def main():\n",
    "    thread_list = []\n",
    "    for i in tqdm(range(1,11)):\n",
    "        pool_sema.acquire() \n",
    "        thread = threading.Thread(target=request_url,args=[i])\n",
    "        thread.start()\n",
    "        thread_list.append(thread)\n",
    "\n",
    "    for t in thread_list:\n",
    "        t.join()\n",
    "\n",
    "    date_ = datetime.datetime.now().strftime('%Y-%m-%d %H')   #更新时间\n",
    "    df = pd.DataFrame(result)\n",
    "    df['序号'] = df['序号'].map(lambda i:int(i))\n",
    "    df['更新时间'] = date_\n",
    "    df = df.sort_values('序号')\n",
    "    #只保留有合约或官网信息的代币\n",
    "    df = df[~(df['合约'].isna() & df['官网'].isna())].drop_duplicates('合约')\n",
    "    df.set_index('序号').reset_index(drop=True).to_csv(f'./save/Mytoken{date_}更新.csv',index=False)\n",
    "    \n",
    "if __name__ == \"__main__\":\n",
    "    result = []\n",
    "    lock = threading.Lock() #设置线程锁\n",
    "    max_connection = 4 #10线程\n",
    "    pool_sema = threading.BoundedSemaphore(max_connection) #最大线程量\n",
    "    main()"
   ]
  },
  {
   "cell_type": "code",
   "execution_count": null,
   "id": "d9c9a437-9df4-4dab-bc0b-2f5ddee32530",
   "metadata": {},
   "outputs": [],
   "source": []
  },
  {
   "cell_type": "code",
   "execution_count": 3,
   "id": "016b5aab-fc33-4c5d-8646-0baecbc9cead",
   "metadata": {
    "tags": []
   },
   "outputs": [
    {
     "name": "stderr",
     "output_type": "stream",
     "text": [
      " 50%|█████████████████████████████████████████▌                                         | 5/10 [00:19<00:19,  3.98s/it]"
     ]
    },
    {
     "name": "stdout",
     "output_type": "stream",
     "text": [
      "2爬取完成\n",
      "3爬取完成\n"
     ]
    },
    {
     "name": "stderr",
     "output_type": "stream",
     "text": [
      " 60%|█████████████████████████████████████████████████▊                                 | 6/10 [00:30<00:21,  5.43s/it]"
     ]
    },
    {
     "name": "stdout",
     "output_type": "stream",
     "text": [
      "4爬取完成\n",
      "1爬取完成\n"
     ]
    },
    {
     "name": "stderr",
     "output_type": "stream",
     "text": [
      " 90%|██████████████████████████████████████████████████████████████████████████▋        | 9/10 [00:55<00:08,  8.71s/it]"
     ]
    },
    {
     "name": "stdout",
     "output_type": "stream",
     "text": [
      "6爬取完成\n"
     ]
    },
    {
     "name": "stderr",
     "output_type": "stream",
     "text": [
      "100%|██████████████████████████████████████████████████████████████████████████████████| 10/10 [00:55<00:00,  5.59s/it]"
     ]
    },
    {
     "name": "stdout",
     "output_type": "stream",
     "text": [
      "7爬取完成\n"
     ]
    },
    {
     "name": "stderr",
     "output_type": "stream",
     "text": [
      "\n"
     ]
    },
    {
     "name": "stdout",
     "output_type": "stream",
     "text": [
      "5爬取完成\n",
      "9爬取完成\n",
      "10爬取完成\n",
      "8爬取完成\n"
     ]
    }
   ],
   "source": [
    "%run MyToken.py"
   ]
  },
  {
   "cell_type": "code",
   "execution_count": 4,
   "id": "8c7eed45-cf58-40e1-bd16-f75c55f59fa0",
   "metadata": {},
   "outputs": [
    {
     "name": "stderr",
     "output_type": "stream",
     "text": [
      " 10%|████████▎                                                                          | 1/10 [00:09<01:25,  9.53s/it]"
     ]
    },
    {
     "name": "stdout",
     "output_type": "stream",
     "text": [
      "1爬取完成\n"
     ]
    },
    {
     "name": "stderr",
     "output_type": "stream",
     "text": [
      " 20%|████████████████▌                                                                  | 2/10 [00:19<01:20, 10.07s/it]"
     ]
    },
    {
     "name": "stdout",
     "output_type": "stream",
     "text": [
      "2爬取完成\n"
     ]
    },
    {
     "name": "stderr",
     "output_type": "stream",
     "text": [
      " 40%|█████████████████████████████████▏                                                 | 4/10 [00:39<01:00, 10.05s/it]"
     ]
    },
    {
     "name": "stdout",
     "output_type": "stream",
     "text": [
      "4爬取完成\n"
     ]
    },
    {
     "name": "stderr",
     "output_type": "stream",
     "text": [
      " 50%|█████████████████████████████████████████▌                                         | 5/10 [00:50<00:51, 10.21s/it]"
     ]
    },
    {
     "name": "stdout",
     "output_type": "stream",
     "text": [
      "5爬取完成\n",
      "3爬取完成\n"
     ]
    },
    {
     "name": "stderr",
     "output_type": "stream",
     "text": [
      " 60%|█████████████████████████████████████████████████▊                                 | 6/10 [01:02<00:43, 10.79s/it]"
     ]
    },
    {
     "name": "stdout",
     "output_type": "stream",
     "text": [
      "6爬取完成\n"
     ]
    },
    {
     "name": "stderr",
     "output_type": "stream",
     "text": [
      " 70%|██████████████████████████████████████████████████████████                         | 7/10 [01:12<00:31, 10.63s/it]"
     ]
    },
    {
     "name": "stdout",
     "output_type": "stream",
     "text": [
      "7爬取完成\n"
     ]
    },
    {
     "name": "stderr",
     "output_type": "stream",
     "text": [
      " 90%|██████████████████████████████████████████████████████████████████████████▋        | 9/10 [01:33<00:10, 10.49s/it]"
     ]
    },
    {
     "name": "stdout",
     "output_type": "stream",
     "text": [
      "9爬取完成\n"
     ]
    },
    {
     "name": "stderr",
     "output_type": "stream",
     "text": [
      "100%|██████████████████████████████████████████████████████████████████████████████████| 10/10 [01:44<00:00, 10.45s/it]\n"
     ]
    },
    {
     "name": "stdout",
     "output_type": "stream",
     "text": [
      "10爬取完成\n",
      "8爬取完成\n"
     ]
    }
   ],
   "source": [
    "%run avedex.py"
   ]
  },
  {
   "cell_type": "code",
   "execution_count": null,
   "id": "3edf6337-def5-452c-a4e7-7abad361f6e7",
   "metadata": {},
   "outputs": [],
   "source": []
  }
 ],
 "metadata": {
  "kernelspec": {
   "display_name": "Python 3 (ipykernel)",
   "language": "python",
   "name": "python3"
  },
  "language_info": {
   "codemirror_mode": {
    "name": "ipython",
    "version": 3
   },
   "file_extension": ".py",
   "mimetype": "text/x-python",
   "name": "python",
   "nbconvert_exporter": "python",
   "pygments_lexer": "ipython3",
   "version": "3.9.12"
  }
 },
 "nbformat": 4,
 "nbformat_minor": 5
}

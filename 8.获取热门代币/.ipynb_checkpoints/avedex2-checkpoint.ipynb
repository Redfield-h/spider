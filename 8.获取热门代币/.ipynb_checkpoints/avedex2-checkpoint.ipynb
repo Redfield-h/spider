{
 "cells": [
  {
   "cell_type": "code",
   "execution_count": null,
   "id": "3c0fb754-2c20-4760-af90-0e0bfaa6bb82",
   "metadata": {
    "tags": []
   },
   "outputs": [
    {
     "name": "stderr",
     "output_type": "stream",
     "text": [
      "  0%|                                                                                           | 0/10 [00:00<?, ?it/s]"
     ]
    },
    {
     "name": "stdout",
     "output_type": "stream",
     "text": [
      "3爬取完成\n"
     ]
    },
    {
     "name": "stderr",
     "output_type": "stream",
     "text": [
      " 50%|█████████████████████████████████████████▌                                         | 5/10 [00:47<00:47,  9.52s/it]"
     ]
    },
    {
     "name": "stdout",
     "output_type": "stream",
     "text": [
      "1爬取完成\n",
      "2爬取完成\n"
     ]
    },
    {
     "name": "stderr",
     "output_type": "stream",
     "text": [
      " 70%|██████████████████████████████████████████████████████████                         | 7/10 [00:49<00:17,  5.97s/it]"
     ]
    },
    {
     "name": "stdout",
     "output_type": "stream",
     "text": [
      "4爬取完成\n"
     ]
    },
    {
     "name": "stderr",
     "output_type": "stream",
     "text": [
      " 80%|██████████████████████████████████████████████████████████████████▍                | 8/10 [00:54<00:11,  5.59s/it]"
     ]
    },
    {
     "name": "stdout",
     "output_type": "stream",
     "text": [
      "5爬取完成\n",
      "7爬取完成\n"
     ]
    },
    {
     "name": "stderr",
     "output_type": "stream",
     "text": [
      "100%|██████████████████████████████████████████████████████████████████████████████████| 10/10 [01:09<00:00,  6.96s/it]\n"
     ]
    },
    {
     "name": "stdout",
     "output_type": "stream",
     "text": [
      "8爬取完成\n",
      "9爬取完成\n"
     ]
    }
   ],
   "source": [
    "import json\n",
    "import time\n",
    "import datetime\n",
    "import re\n",
    "import os\n",
    "import sys\n",
    "import subprocess\n",
    "import pandas as pd\n",
    "import pytesseract\n",
    "from bs4 import BeautifulSoup\n",
    "from tqdm import tqdm\n",
    "from PIL import Image\n",
    "import base64\n",
    "import cv2 as cv\n",
    "from itertools import zip_longest\n",
    "from selenium import webdriver\n",
    "from selenium.webdriver.chrome.options import Options\n",
    "from selenium.webdriver.common.by import By\n",
    "import threading\n",
    "    \n",
    "def request_url(no):\n",
    "    \n",
    "    global result\n",
    "    \n",
    "    chrome_options = Options()\n",
    "    chrome_options.add_argument('headless') #无界面\n",
    "    chrome_options.add_experimental_option('excludeSwitches', ['enable-automation']) #防检测\n",
    "    driver = webdriver.Chrome(options=chrome_options)\n",
    "    driver.set_window_size(1920,1080)  #设置分辨率\n",
    "\n",
    "    cookies = {\n",
    "        'domain': 'avedex.cc',\n",
    "        'expiry': 1662347549,\n",
    "        'httpOnly': False,\n",
    "        'name': 'ave_token',\n",
    "        'path': '/',\n",
    "        'secure': False,\n",
    "        'value': '133561fcb642e3599bd1b79f6abd33331661742728595159144'\n",
    "        }\n",
    "\n",
    "    driver.get(\"https://avedex.cc/market\")\n",
    "    time.sleep(3)\n",
    "    driver.add_cookie(cookie_dict = cookies)\n",
    "    driver.get(\"https://avedex.cc/market\")\n",
    "    # print('===》正在打开页面')\n",
    "    time.sleep(3)\n",
    "\n",
    "    # print('===>正在获取中')\n",
    "    page_value = f'/html/body/div[1]/main/section/div[2]/div/div[1]/div[3]/div/div[1]/div/table/tbody/tr[{no}]'\n",
    "    driver.implicitly_wait(30)  #隐式等待5秒\n",
    "    coin = driver.find_element(by=By.XPATH,value=page_value).text.split('\\n')  #代币信息->列表\n",
    "    ans = ['序号','币种','最新价格','24h涨幅','流通量','开盘价','风险性']\n",
    "    res = dict(zip_longest(ans,coin))\n",
    "\n",
    "    #跳转到详细页面\n",
    "    page_value = f'/html/body/div[1]/main/section/div[2]/div/div[1]/div[3]/div/div[1]/div/table/tbody/tr[{no}]'\n",
    "    driver.implicitly_wait(30)  #隐式等待5秒\n",
    "    driver.find_element(by=By.XPATH,value=page_value).click()\n",
    "\n",
    "    #点击info\n",
    "    time.sleep(2)\n",
    "    page_value = '/html/body/div[1]/main/section/div[1]/div[4]/section/div[1]/div[1]/div/div[2]'\n",
    "    driver.implicitly_wait(30)  #隐式等待5秒\n",
    "    driver.find_element(by=By.XPATH,value=page_value).click()\n",
    "\n",
    "    #代币合约&所属链\n",
    "    current_url = driver.current_url\n",
    "    contract = re.search('(?<=token/).*?(?=-)',current_url).group()\n",
    "    chain = re.search('(?<=-).*',current_url).group()\n",
    "    res['合约'] = contract\n",
    "    res['所属链'] = chain\n",
    "\n",
    "    #相关链接\n",
    "    links = []\n",
    "    try:\n",
    "        page_value = '/html/body/div[1]/main/section/div[1]/div[4]/section/div[2]/div[1]/div/ul/li'\n",
    "        length = len(driver.find_elements(by=By.XPATH,value=page_value))\n",
    "        page_value = f'/html/body/div[1]/main/section/div[1]/div[4]/section/div[2]/div[1]/div/ul/li[{length}]/div/a'\n",
    "        for i in driver.find_elements(by=By.XPATH,value=page_value):\n",
    "            link = i.get_attribute('href')\n",
    "            links.append(link)\n",
    "    except:\n",
    "        pass\n",
    "    res['相关链接'] = links\n",
    "\n",
    "    lock.acquire()    #线程锁\n",
    "    result.append(res)    \n",
    "    lock.release()    #释放锁\n",
    "    \n",
    "    print(f'{no}爬取完成')\n",
    "    driver.close()\n",
    "    pool_sema.release() #释放已完成线程\n",
    "        \n",
    "        \n",
    "    \n",
    "result = []\n",
    "\n",
    "lock = threading.Lock()  #设置线程锁\n",
    "max_connection = 4 #4线程\n",
    "pool_sema = threading.BoundedSemaphore(max_connection) #最大线程量\n",
    "\n",
    "thread_list = []\n",
    "for i in tqdm(range(1,11)):\n",
    "    pool_sema.acquire()\n",
    "    thread = threading.Thread(target=request_url,args=[i])\n",
    "    thread.start()\n",
    "    thread_list.append(thread)\n",
    "\n",
    "for t in thread_list:\n",
    "    t.join()\n",
    "\n",
    "date_ = datetime.datetime.now().strftime('%Y-%m-%d %H')   #更新时间\n",
    "df = pd.DataFrame(result)\n",
    "df['序号'] = df['序号'].map(lambda i:int(i))\n",
    "df['更新时间'] = date_\n",
    "df.sort_values('序号')\n",
    "df.to_csv(f'./save/ave{date_}更新.csv',index=False)"
   ]
  },
  {
   "cell_type": "code",
   "execution_count": null,
   "id": "4de5fe4e-cb4a-4a80-a21c-adcc56fb620e",
   "metadata": {},
   "outputs": [],
   "source": []
  },
  {
   "cell_type": "code",
   "execution_count": null,
   "id": "73b5ec9e-8110-4a7d-af37-e1b21faf9240",
   "metadata": {},
   "outputs": [],
   "source": []
  },
  {
   "cell_type": "code",
   "execution_count": null,
   "id": "5b825aaa-b2fe-4f03-8964-ca95b71c627d",
   "metadata": {},
   "outputs": [],
   "source": []
  },
  {
   "cell_type": "code",
   "execution_count": null,
   "id": "a5a52a90-eb20-495d-9c60-27f58b44d2b9",
   "metadata": {},
   "outputs": [],
   "source": [
    "%run avedex.py"
   ]
  },
  {
   "cell_type": "code",
   "execution_count": null,
   "id": "a8ada3af-e68b-486d-a43d-69e05de56e87",
   "metadata": {},
   "outputs": [],
   "source": []
  }
 ],
 "metadata": {
  "kernelspec": {
   "display_name": "Python 3 (ipykernel)",
   "language": "python",
   "name": "python3"
  },
  "language_info": {
   "codemirror_mode": {
    "name": "ipython",
    "version": 3
   },
   "file_extension": ".py",
   "mimetype": "text/x-python",
   "name": "python",
   "nbconvert_exporter": "python",
   "pygments_lexer": "ipython3",
   "version": "3.9.12"
  }
 },
 "nbformat": 4,
 "nbformat_minor": 5
}

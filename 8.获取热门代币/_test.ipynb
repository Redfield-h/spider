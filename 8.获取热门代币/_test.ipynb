{
 "cells": [
  {
   "cell_type": "code",
   "execution_count": 1,
   "id": "e7b97dad-7bda-4196-9d6f-a187a34f6e91",
   "metadata": {
    "tags": []
   },
   "outputs": [
    {
     "name": "stderr",
     "output_type": "stream",
     "text": [
      "100%|██████████████████████████████████████████████████████████████████████████████████| 10/10 [01:12<00:00,  7.29s/it]\n"
     ]
    }
   ],
   "source": [
    "%run avedex.py"
   ]
  },
  {
   "cell_type": "code",
   "execution_count": 1,
   "id": "f722ec07-2c4b-4d61-a63e-274559d03245",
   "metadata": {
    "tags": []
   },
   "outputs": [
    {
     "name": "stderr",
     "output_type": "stream",
     "text": [
      "100%|██████████████████████████████████████████████████████████████████████████████████| 10/10 [00:54<00:00,  5.41s/it]\n"
     ]
    }
   ],
   "source": [
    "%run MyToken.py"
   ]
  },
  {
   "cell_type": "code",
   "execution_count": 2,
   "id": "ba4db8f7-e68a-4af4-b7b0-90d9094ab1f4",
   "metadata": {},
   "outputs": [],
   "source": [
    "coin = {\"A\":1,\"B\":2}"
   ]
  },
  {
   "cell_type": "code",
   "execution_count": 9,
   "id": "33944550-4950-49ff-9736-a01afb280bfa",
   "metadata": {},
   "outputs": [
    {
     "data": {
      "text/plain": [
       "{1, 2}"
      ]
     },
     "execution_count": 9,
     "metadata": {},
     "output_type": "execute_result"
    }
   ],
   "source": [
    "coin.values()"
   ]
  },
  {
   "cell_type": "code",
   "execution_count": null,
   "id": "3330d00e-0ca1-4737-acbf-a71ab7d8d030",
   "metadata": {},
   "outputs": [],
   "source": []
  }
 ],
 "metadata": {
  "kernelspec": {
   "display_name": "Python 3 (ipykernel)",
   "language": "python",
   "name": "python3"
  },
  "language_info": {
   "codemirror_mode": {
    "name": "ipython",
    "version": 3
   },
   "file_extension": ".py",
   "mimetype": "text/x-python",
   "name": "python",
   "nbconvert_exporter": "python",
   "pygments_lexer": "ipython3",
   "version": "3.9.12"
  }
 },
 "nbformat": 4,
 "nbformat_minor": 5
}
